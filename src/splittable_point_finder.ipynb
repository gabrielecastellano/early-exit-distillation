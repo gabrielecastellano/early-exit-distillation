{
 "cells": [
  {
   "cell_type": "code",
   "execution_count": 1,
   "metadata": {},
   "outputs": [],
   "source": [
    "import torch\n",
    "import torch.nn as nn\n",
    "from myutils.common import yaml_util\n",
    "from utils import module_util"
   ]
  },
  {
   "cell_type": "code",
   "execution_count": 2,
   "metadata": {},
   "outputs": [],
   "source": [
    "config_file_path = '../config/densenet169.yaml'\n",
    "config = yaml_util.load_yaml_file(config_file_path)\n",
    "model = module_util.get_model(config, 'cpu')"
   ]
  },
  {
   "cell_type": "code",
   "execution_count": 3,
   "metadata": {},
   "outputs": [],
   "source": [
    "modules = list()\n",
    "module_util.extract_all_child_modules(model, modules, extract_designed_module=False)"
   ]
  },
  {
   "cell_type": "code",
   "execution_count": 4,
   "metadata": {},
   "outputs": [
    {
     "name": "stdout",
     "output_type": "stream",
     "text": [
      "0 Conv2d\n",
      "1 BatchNorm2d\n",
      "2 ReLU\n",
      "3 MaxPool2d\n",
      "4 _DenseBlock\n",
      "5 _Transition\n",
      "6 _DenseBlock\n",
      "7 _Transition\n",
      "8 _DenseBlock\n",
      "9 _Transition\n",
      "10 _DenseBlock\n",
      "11 BatchNorm2d\n",
      "12 ReLU\n",
      "13 AvgPool2d\n",
      "14 Linear\n"
     ]
    }
   ],
   "source": [
    "for i, module in enumerate(modules):\n",
    "    print(i, type(module).__name__)"
   ]
  },
  {
   "cell_type": "code",
   "execution_count": 9,
   "metadata": {},
   "outputs": [
    {
     "data": {
      "text/plain": [
       "torch.Size([1, 256, 14, 14])"
      ]
     },
     "execution_count": 9,
     "metadata": {},
     "output_type": "execute_result"
    }
   ],
   "source": [
    "x = torch.ones(1, 3, 224, 224)\n",
    "start_idx = 0\n",
    "end_idx = 8\n",
    "teacher_model = nn.Sequential(*modules[start_idx:end_idx])\n",
    "z = teacher_model(x)\n",
    "z.size()"
   ]
  },
  {
   "cell_type": "code",
   "execution_count": 6,
   "metadata": {},
   "outputs": [
    {
     "data": {
      "text/plain": [
       "torch.Size([1, 128, 28, 28])"
      ]
     },
     "execution_count": 6,
     "metadata": {},
     "output_type": "execute_result"
    }
   ],
   "source": [
    "student_model = nn.Sequential(\n",
    "        nn.Conv2d(3, 64, kernel_size=7, stride=2, padding=3, bias=False),\n",
    "        nn.BatchNorm2d(64),\n",
    "        nn.ReLU(inplace=True),\n",
    "        nn.MaxPool2d(kernel_size=3, stride=2, padding=1),\n",
    "    \n",
    "        nn.BatchNorm2d(64),\n",
    "        nn.ReLU(inplace=True),\n",
    "        nn.Conv2d(64, 128, kernel_size=2, stride=1, bias=False),\n",
    "        nn.AvgPool2d(kernel_size=2, stride=2, padding=1)\n",
    ")\n",
    "z = student_model(x)\n",
    "z.size()"
   ]
  },
  {
   "cell_type": "code",
   "execution_count": null,
   "metadata": {},
   "outputs": [],
   "source": []
  }
 ],
 "metadata": {
  "kernelspec": {
   "display_name": "Python 3",
   "language": "python",
   "name": "python3"
  },
  "language_info": {
   "codemirror_mode": {
    "name": "ipython",
    "version": 3
   },
   "file_extension": ".py",
   "mimetype": "text/x-python",
   "name": "python",
   "nbconvert_exporter": "python",
   "pygments_lexer": "ipython3",
   "version": "3.6.6"
  }
 },
 "nbformat": 4,
 "nbformat_minor": 2
}
